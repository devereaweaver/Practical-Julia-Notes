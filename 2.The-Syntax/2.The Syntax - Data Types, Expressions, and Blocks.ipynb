{
 "cells": [
  {
   "cell_type": "markdown",
   "id": "89b79db2-10fb-435d-8d86-e63e654ff1d5",
   "metadata": {},
   "source": [
    "# The Syntax - Data Types, Expressions, and Blocks\n",
    "\n",
    "## Operations and Expressions \n",
    "\n",
    "### Expression Blocks\n",
    "\n",
    "Expressions in Julia can be groups with *begin-end* blocks."
   ]
  },
  {
   "cell_type": "code",
   "execution_count": 1,
   "id": "95c54436-08a9-42d3-a6ed-219828dbaa22",
   "metadata": {},
   "outputs": [
    {
     "data": {
      "text/plain": [
       "8"
      ]
     },
     "execution_count": 1,
     "metadata": {},
     "output_type": "execute_result"
    }
   ],
   "source": [
    "# result is the last expression in the block\n",
    "begin\n",
    "    1\n",
    "    2\n",
    "    5+3\n",
    "end"
   ]
  },
  {
   "cell_type": "code",
   "execution_count": 2,
   "id": "203f0d1a-6cd5-4292-8f2d-e00cfd3bbee3",
   "metadata": {},
   "outputs": [
    {
     "data": {
      "text/plain": [
       "8"
      ]
     },
     "execution_count": 2,
     "metadata": {},
     "output_type": "execute_result"
    }
   ],
   "source": [
    "# these blocks can be assigned\n",
    "eight = begin\n",
    "    1\n",
    "    2\n",
    "    5+3\n",
    "end"
   ]
  },
  {
   "cell_type": "markdown",
   "id": "5ef6815a-2fca-4b26-92f5-970d90939cf7",
   "metadata": {},
   "source": [
    "### Logic\n",
    "\n",
    "Logical operators in Julia are *short circuiting* meaning if the Boolean result can be determined before the entire \n",
    "line is read, then it will stop and continue onto the next logical block of code.\n",
    "\n",
    "In order to evaluate all the terms in a logical expression, use bitwise operators instead. \n",
    "\n",
    "### Looping: while Blocks\n",
    "\n",
    "As opposed to begin-blocks, while-blocks don't return anything. "
   ]
  },
  {
   "cell_type": "code",
   "execution_count": 3,
   "id": "1f033523-9037-4222-a361-af536482cf6e",
   "metadata": {},
   "outputs": [],
   "source": [
    "j = 0;"
   ]
  },
  {
   "cell_type": "code",
   "execution_count": 4,
   "id": "1256a865-8d58-40db-bf4c-60d224002da9",
   "metadata": {},
   "outputs": [
    {
     "name": "stdout",
     "output_type": "stream",
     "text": [
      "0\n",
      "1\n",
      "4\n",
      "9\n",
      "16\n"
     ]
    }
   ],
   "source": [
    "while j < 5\n",
    "    println(j^2)\n",
    "    j = j + 1\n",
    "end"
   ]
  },
  {
   "cell_type": "code",
   "execution_count": 5,
   "id": "fe5bed6c-3f2c-409e-b393-137eb538648f",
   "metadata": {},
   "outputs": [
    {
     "data": {
      "text/plain": [
       "5"
      ]
     },
     "execution_count": 5,
     "metadata": {},
     "output_type": "execute_result"
    }
   ],
   "source": [
    "# observe j was created as a global variable and will take on values assigned in blocks\n",
    "j"
   ]
  },
  {
   "cell_type": "markdown",
   "id": "c5d0de20-fc3e-41ad-b33c-eef83c7ff184",
   "metadata": {},
   "source": [
    "### if Blocks\n",
    "\n",
    "These type of blocks return results thus an if statement is not required. "
   ]
  },
  {
   "cell_type": "code",
   "execution_count": 6,
   "id": "7c3018e2-48f4-473a-9541-1b77d4f58e08",
   "metadata": {},
   "outputs": [
    {
     "data": {
      "text/plain": [
       "50.0"
      ]
     },
     "execution_count": 6,
     "metadata": {},
     "output_type": "execute_result"
    }
   ],
   "source": [
    "# floating-point \n",
    "n = 50."
   ]
  },
  {
   "cell_type": "code",
   "execution_count": 7,
   "id": "50392694-5de3-44c1-9523-d86c403a89e8",
   "metadata": {},
   "outputs": [
    {
     "data": {
      "text/plain": [
       "\"I only deal with integers.\""
      ]
     },
     "execution_count": 7,
     "metadata": {},
     "output_type": "execute_result"
    }
   ],
   "source": [
    "# === makes it so we can only compare the same type, here n is an integer\n",
    "# thus the comparison ONLY works for integers\n",
    "if n % 2 === 0\n",
    "    \"Even.\"\n",
    "elseif n % 2 === 1\n",
    "    \"Odd.\"\n",
    "else\n",
    "    \"I only deal with integers.\"\n",
    "end"
   ]
  },
  {
   "cell_type": "markdown",
   "id": "6c3759e5-6d4a-4347-b417-1b2bd0d07a54",
   "metadata": {},
   "source": [
    "## Arrays \n",
    "\n",
    "Our first collection type. Julia offers excellent array performance. "
   ]
  },
  {
   "cell_type": "code",
   "execution_count": 8,
   "id": "4a4efcbb-0596-48a7-9d41-930b3e9376cd",
   "metadata": {},
   "outputs": [
    {
     "data": {
      "text/plain": [
       "3-element Vector{Int64}:\n",
       " 1\n",
       " 2\n",
       " 3"
      ]
     },
     "execution_count": 8,
     "metadata": {},
     "output_type": "execute_result"
    }
   ],
   "source": [
    "# create a vector (1d array)\n",
    "[1, 2, 3]"
   ]
  },
  {
   "cell_type": "code",
   "execution_count": 9,
   "id": "f0a60486-90a7-4aa8-88b1-70b88a25aeb6",
   "metadata": {},
   "outputs": [
    {
     "data": {
      "text/plain": [
       "3-element Vector{Float64}:\n",
       " 4.0\n",
       " 5.0\n",
       " 6.0"
      ]
     },
     "execution_count": 9,
     "metadata": {},
     "output_type": "execute_result"
    }
   ],
   "source": [
    "# Julia can change numerical types, promoted to floating-point\n",
    "a = [4, 5.0, 6]"
   ]
  },
  {
   "cell_type": "code",
   "execution_count": 10,
   "id": "55a9621d-8f00-4390-af90-71a747ca9943",
   "metadata": {},
   "outputs": [
    {
     "data": {
      "text/plain": [
       "3-element Vector{Any}:\n",
       " 4\n",
       "  [5.0, 6.0]\n",
       " 7"
      ]
     },
     "execution_count": 10,
     "metadata": {},
     "output_type": "execute_result"
    }
   ],
   "source": [
    "# heterogeneous array \n",
    "a = [4, [5., 6], 7]"
   ]
  },
  {
   "cell_type": "markdown",
   "id": "d8a326fc-e2fa-43a3-94c0-22691e11b29b",
   "metadata": {},
   "source": [
    "### Array Indexing \n",
    "\n",
    "Basically the same as in other languages."
   ]
  },
  {
   "cell_type": "code",
   "execution_count": 11,
   "id": "0bbf687b-43dd-4373-b2ee-1cff83372e87",
   "metadata": {},
   "outputs": [
    {
     "data": {
      "text/plain": [
       "4"
      ]
     },
     "execution_count": 11,
     "metadata": {},
     "output_type": "execute_result"
    }
   ],
   "source": [
    "a[1]"
   ]
  },
  {
   "cell_type": "code",
   "execution_count": 12,
   "id": "c121dfff-4715-4c73-b0f7-ea14114fd198",
   "metadata": {},
   "outputs": [
    {
     "data": {
      "text/plain": [
       "7"
      ]
     },
     "execution_count": 12,
     "metadata": {},
     "output_type": "execute_result"
    }
   ],
   "source": [
    "# don't know the length, no problem \n",
    "a[end]"
   ]
  },
  {
   "cell_type": "code",
   "execution_count": 13,
   "id": "b1fe7e61-80d2-4bd3-b21a-00d3976f3ab3",
   "metadata": {},
   "outputs": [
    {
     "data": {
      "text/plain": [
       "3"
      ]
     },
     "execution_count": 13,
     "metadata": {},
     "output_type": "execute_result"
    }
   ],
   "source": [
    "length(a)"
   ]
  },
  {
   "cell_type": "markdown",
   "id": "4cb08b03-3eec-4ba9-979f-ee727af58bd3",
   "metadata": {},
   "source": [
    "## Ranges\n",
    "\n",
    "Range syntax constructs inclusive ranges, incrementing by a given value. By default, ranges aren't created as arrays. They can be created as arrays though. "
   ]
  },
  {
   "cell_type": "code",
   "execution_count": 14,
   "id": "ee80c666-b40d-421e-8252-5ae2a1697240",
   "metadata": {},
   "outputs": [
    {
     "data": {
      "text/plain": [
       "5-element Vector{Int64}:\n",
       " 1\n",
       " 2\n",
       " 3\n",
       " 4\n",
       " 5"
      ]
     },
     "execution_count": 14,
     "metadata": {},
     "output_type": "execute_result"
    }
   ],
   "source": [
    "collect(1:5)"
   ]
  },
  {
   "cell_type": "code",
   "execution_count": 15,
   "id": "da1a29db-8568-46b7-9434-c49e986bb745",
   "metadata": {},
   "outputs": [
    {
     "data": {
      "text/plain": [
       "2-element Vector{Vector{Float64}}:\n",
       " [1.0, 3.0, 5.0, 7.0, 9.0]\n",
       " [2.5, 2.0, 1.5, 1.0, 0.5, 0.0]"
      ]
     },
     "execution_count": 15,
     "metadata": {},
     "output_type": "execute_result"
    }
   ],
   "source": [
    "# array of collections\n",
    "[collect(1:2:10), collect(2.5:-0.5:0)]"
   ]
  },
  {
   "cell_type": "markdown",
   "id": "e7808e98-f738-4f26-a6e5-1ca847358c6c",
   "metadata": {},
   "source": [
    "## Arrays: Beyond the First Dimension\n",
    "\n",
    "### Matrices\n",
    "\n",
    "Matrices are considered two dimensional arrays."
   ]
  },
  {
   "cell_type": "code",
   "execution_count": 16,
   "id": "c03e53dd-1711-446a-b5b7-3944cd192290",
   "metadata": {},
   "outputs": [
    {
     "data": {
      "text/plain": [
       "2×2 Matrix{Int64}:\n",
       " 5  6\n",
       " 7  8"
      ]
     },
     "execution_count": 16,
     "metadata": {},
     "output_type": "execute_result"
    }
   ],
   "source": [
    "m = [\n",
    "    5 6\n",
    "    7 8\n",
    "]"
   ]
  },
  {
   "cell_type": "code",
   "execution_count": 17,
   "id": "dd7500dc-51a8-4bcb-abc8-f7bf147da9a7",
   "metadata": {},
   "outputs": [
    {
     "data": {
      "text/plain": [
       "5"
      ]
     },
     "execution_count": 17,
     "metadata": {},
     "output_type": "execute_result"
    }
   ],
   "source": [
    "# 1x1\n",
    "m[1,1]"
   ]
  },
  {
   "cell_type": "code",
   "execution_count": 18,
   "id": "28b9362d-51e6-4107-be4d-579d9dfd498b",
   "metadata": {},
   "outputs": [
    {
     "data": {
      "text/plain": [
       "2-element Vector{Int64}:\n",
       " 7\n",
       " 8"
      ]
     },
     "execution_count": 18,
     "metadata": {},
     "output_type": "execute_result"
    }
   ],
   "source": [
    "# 2xm  (selecting an entire row)\n",
    "m[2,:]"
   ]
  },
  {
   "cell_type": "code",
   "execution_count": 19,
   "id": "d3008528-1543-4338-a7aa-efb59d6f5b21",
   "metadata": {},
   "outputs": [
    {
     "data": {
      "text/plain": [
       "2-element Vector{Int64}:\n",
       " 6\n",
       " 8"
      ]
     },
     "execution_count": 19,
     "metadata": {},
     "output_type": "execute_result"
    }
   ],
   "source": [
    "# n x 2 (selecting an entire column)\n",
    "m[:,2]"
   ]
  },
  {
   "cell_type": "markdown",
   "id": "7c9820da-f43a-4121-b797-84480a708fa1",
   "metadata": {},
   "source": [
    "### Scalar Indexing"
   ]
  },
  {
   "cell_type": "code",
   "execution_count": 20,
   "id": "5a373db8-6800-4d02-82f7-adaf97caf18d",
   "metadata": {},
   "outputs": [
    {
     "data": {
      "text/plain": [
       "5"
      ]
     },
     "execution_count": 20,
     "metadata": {},
     "output_type": "execute_result"
    }
   ],
   "source": [
    "# just returning the 1st element of a matrix?\n",
    "m[1]"
   ]
  },
  {
   "cell_type": "code",
   "execution_count": 21,
   "id": "7634dd5c-0f49-4ceb-a96f-fa9b329f2134",
   "metadata": {},
   "outputs": [
    {
     "data": {
      "text/plain": [
       "7"
      ]
     },
     "execution_count": 21,
     "metadata": {},
     "output_type": "execute_result"
    }
   ],
   "source": [
    "m[2]"
   ]
  },
  {
   "cell_type": "markdown",
   "id": "80bef019-bc34-4658-97ce-5b3d2f0f306b",
   "metadata": {},
   "source": [
    "This is occurring because Julia stores elements in matrices in *column-major order* (i.e. in memory the first column is stored, followed by the second, and so on.)\n",
    "\n",
    "Of course the concept of an array, vector, and matrix are simply abstractions. In memory, these data structures are all guaranteed to be stored in contiguous memory. They can be thought of being stored in one long ass row.\n",
    "\n",
    "When we access the elements of these data structures using integers, we say we are using *scalar indexing*.\n",
    "\n",
    "Usually, we as the programmer may not need to think about this storage detail; however, it can be important since a computation that loops over elements of a matrix should \n",
    "proceed in column-major order rather than row-major order since it is more efficient to operate on data that is stored contiguously in memory.\n",
    "\n",
    "### Indexing Arrays with Arrays \n",
    "\n",
    "Elements of an index expression can be vectors. "
   ]
  },
  {
   "cell_type": "code",
   "execution_count": 22,
   "id": "7d66d308-141f-4eec-b71a-e28a149353f5",
   "metadata": {},
   "outputs": [],
   "source": [
    "m = [\n",
    "    11 12 13 14\n",
    "    15 16 17 18\n",
    "    19 20 21 22];"
   ]
  },
  {
   "cell_type": "code",
   "execution_count": 23,
   "id": "07751fcd-245b-4241-a94b-5cf946061823",
   "metadata": {},
   "outputs": [
    {
     "data": {
      "text/plain": [
       "2-element Vector{Int64}:\n",
       " 16\n",
       " 17"
      ]
     },
     "execution_count": 23,
     "metadata": {},
     "output_type": "execute_result"
    }
   ],
   "source": [
    "# row two, second and third elements \n",
    "m[2, [2, 3]]"
   ]
  },
  {
   "cell_type": "code",
   "execution_count": 24,
   "id": "9ee5fa91-e559-4aae-86ea-7908362096e7",
   "metadata": {},
   "outputs": [
    {
     "data": {
      "text/plain": [
       "2×2 Matrix{Int64}:\n",
       " 13  14\n",
       " 17  18"
      ]
     },
     "execution_count": 24,
     "metadata": {},
     "output_type": "execute_result"
    }
   ],
   "source": [
    "# rows one and two, elements three and four\n",
    "m[[1,2], [3,4]]"
   ]
  },
  {
   "cell_type": "markdown",
   "id": "aa18f99f-89cb-4aa5-b4de-7033920949f5",
   "metadata": {},
   "source": [
    "<br>When using an array for indexing, the returned array with have the same shape as this indexing expression. It is also allowed to be larger than the original array since \n",
    "it will simply allow for repeating of elements to fill the array. However, the only limitation is that you cannot index values that don't exist. "
   ]
  },
  {
   "cell_type": "code",
   "execution_count": 25,
   "id": "b02388f4-2d58-4b6c-8c43-715f427fe24a",
   "metadata": {},
   "outputs": [
    {
     "data": {
      "text/plain": [
       "2×2 Matrix{Int64}:\n",
       " 15  19\n",
       " 12  16"
      ]
     },
     "execution_count": 25,
     "metadata": {},
     "output_type": "execute_result"
    }
   ],
   "source": [
    "# examples of array indexing \n",
    "m[[\n",
    "    2 3\n",
    "    4 5\n",
    " ]]"
   ]
  },
  {
   "cell_type": "code",
   "execution_count": 26,
   "id": "8ec98da2-7ce5-419e-8dbb-773b77ffae2e",
   "metadata": {},
   "outputs": [
    {
     "data": {
      "text/plain": [
       "2×3 Matrix{Int64}:\n",
       " 22  11  21\n",
       " 21  11  22"
      ]
     },
     "execution_count": 26,
     "metadata": {},
     "output_type": "execute_result"
    }
   ],
   "source": [
    "# [last element, first, ninth, ninth, first, last element]\n",
    "m[[end 1 9\n",
    "        9 1 end]]"
   ]
  },
  {
   "cell_type": "markdown",
   "id": "27baeb42-bf4b-4f9d-857d-e57aa3518689",
   "metadata": {},
   "source": [
    "Observe that the shape of the result has the same shape as the array used as an index.\n",
    "\n",
    "### Concatenation Operators\n",
    "\n",
    "Semicolons work as line breaks when defining matrices."
   ]
  },
  {
   "cell_type": "code",
   "execution_count": 27,
   "id": "5660e6ec-3527-4592-ab29-a1322eef31c2",
   "metadata": {},
   "outputs": [],
   "source": [
    "m1 = [6 7\n",
    "      8 9];"
   ]
  },
  {
   "cell_type": "code",
   "execution_count": 28,
   "id": "7a24c0ff-f92e-476f-803f-bfac9384a5d5",
   "metadata": {},
   "outputs": [
    {
     "data": {
      "text/plain": [
       "2×2 Matrix{Int64}:\n",
       " 6  7\n",
       " 8  9"
      ]
     },
     "execution_count": 28,
     "metadata": {},
     "output_type": "execute_result"
    }
   ],
   "source": [
    "m2 = [6 7; 8 9]"
   ]
  },
  {
   "cell_type": "code",
   "execution_count": 29,
   "id": "1e5de7ff-2d11-475a-933e-467f7051351a",
   "metadata": {},
   "outputs": [
    {
     "data": {
      "text/plain": [
       "true"
      ]
     },
     "execution_count": 29,
     "metadata": {},
     "output_type": "execute_result"
    }
   ],
   "source": [
    "# same same?\n",
    "m1 == m2"
   ]
  },
  {
   "cell_type": "code",
   "execution_count": 30,
   "id": "83c50658-2d16-46b5-8600-4c93d978fb58",
   "metadata": {},
   "outputs": [
    {
     "data": {
      "text/plain": [
       "2×2 Matrix{Int64}:\n",
       " 6  7\n",
       " 8  9"
      ]
     },
     "execution_count": 30,
     "metadata": {},
     "output_type": "execute_result"
    }
   ],
   "source": [
    "# define same matrix but using vcat() with arguments\n",
    "m3 = vcat([6 7], [8 9])"
   ]
  },
  {
   "cell_type": "code",
   "execution_count": 31,
   "id": "425996f7-7ddc-4c73-8648-79b14242fb51",
   "metadata": {},
   "outputs": [
    {
     "data": {
      "text/plain": [
       "2×2 Matrix{Int64}:\n",
       " 6  7\n",
       " 8  9"
      ]
     },
     "execution_count": 31,
     "metadata": {},
     "output_type": "execute_result"
    }
   ],
   "source": [
    "# vertical and horizontal concatenation\n",
    "[[6 7]; [8 9]]"
   ]
  },
  {
   "cell_type": "code",
   "execution_count": 32,
   "id": "a94d3cbc-4808-46bc-ade2-79578754a94a",
   "metadata": {},
   "outputs": [
    {
     "data": {
      "text/plain": [
       "1×4 Matrix{Int64}:\n",
       " 6  7  8  9"
      ]
     },
     "execution_count": 32,
     "metadata": {},
     "output_type": "execute_result"
    }
   ],
   "source": [
    "# horizontal concatenation only produces different shaped array\n",
    "[[6 7] [8 9]]"
   ]
  },
  {
   "cell_type": "code",
   "execution_count": 33,
   "id": "91cfc28b-a271-4034-9fed-fa2078c6bcc6",
   "metadata": {},
   "outputs": [
    {
     "data": {
      "text/plain": [
       "2×2 Matrix{Int64}:\n",
       " 6  8\n",
       " 7  9"
      ]
     },
     "execution_count": 33,
     "metadata": {},
     "output_type": "execute_result"
    }
   ],
   "source": [
    "# horizontally concatenate two vectors (each vector becomes column vector in result)\n",
    "[[6, 7] [8, 9]]"
   ]
  },
  {
   "cell_type": "code",
   "execution_count": 34,
   "id": "80bcae55-e9e0-431e-8610-6bca76b9abd6",
   "metadata": {},
   "outputs": [
    {
     "data": {
      "text/plain": [
       "4-element Vector{Int64}:\n",
       " 6\n",
       " 7\n",
       " 8\n",
       " 9"
      ]
     },
     "execution_count": 34,
     "metadata": {},
     "output_type": "execute_result"
    }
   ],
   "source": [
    "# vertically concatenate two vectors to return a larger one dimensional vector\n",
    "[[6,7];[8,9]]"
   ]
  },
  {
   "cell_type": "markdown",
   "id": "2c4af060-c9a4-40ae-8670-dbbaa1192d5e",
   "metadata": {},
   "source": [
    "### Tuples\n",
    "\n",
    "These are similar to vectors but they are immutable once initialized. The only difference notation-wise is using () instead of [].\n",
    "\n",
    "The main use of tuples in Julia are ensuring a set of values can't be changed and in supplying arguments to functions and collecting results. "
   ]
  },
  {
   "cell_type": "code",
   "execution_count": 35,
   "id": "0490e489-8991-4a6d-84ae-234b18cb1bf3",
   "metadata": {},
   "outputs": [
    {
     "data": {
      "text/plain": [
       "(5, 6)"
      ]
     },
     "execution_count": 35,
     "metadata": {},
     "output_type": "execute_result"
    }
   ],
   "source": [
    "tup1 = (5,6)"
   ]
  },
  {
   "cell_type": "code",
   "execution_count": 36,
   "id": "fc4d6a6f-dcb4-4903-955b-f49d366cc155",
   "metadata": {},
   "outputs": [
    {
     "data": {
      "text/plain": [
       "(5, 6)"
      ]
     },
     "execution_count": 36,
     "metadata": {},
     "output_type": "execute_result"
    }
   ],
   "source": [
    "# () can be ommitted (don't do this though \n",
    "tup2 = 5, 6"
   ]
  },
  {
   "cell_type": "code",
   "execution_count": 37,
   "id": "81d6d8d7-080c-4f77-8793-14b1698faef9",
   "metadata": {},
   "outputs": [
    {
     "data": {
      "text/plain": [
       "true"
      ]
     },
     "execution_count": 37,
     "metadata": {},
     "output_type": "execute_result"
    }
   ],
   "source": [
    "tup1 == tup2"
   ]
  },
  {
   "cell_type": "code",
   "execution_count": 38,
   "id": "79eb2a75-82f9-41c7-8c20-72cd9f85159f",
   "metadata": {},
   "outputs": [
    {
     "data": {
      "text/plain": [
       "5"
      ]
     },
     "execution_count": 38,
     "metadata": {},
     "output_type": "execute_result"
    }
   ],
   "source": [
    "tup1[1]"
   ]
  },
  {
   "cell_type": "code",
   "execution_count": 39,
   "id": "36698c0a-69ae-4fef-8380-cc8d08c96e24",
   "metadata": {},
   "outputs": [
    {
     "ename": "LoadError",
     "evalue": "MethodError: no method matching setindex!(::Tuple{Int64, Int64}, ::Int64, ::Int64)",
     "output_type": "error",
     "traceback": [
      "MethodError: no method matching setindex!(::Tuple{Int64, Int64}, ::Int64, ::Int64)",
      "",
      "Stacktrace:",
      " [1] top-level scope",
      "   @ In[39]:2",
      " [2] eval",
      "   @ ./boot.jl:368 [inlined]",
      " [3] include_string(mapexpr::typeof(REPL.softscope), mod::Module, code::String, filename::String)",
      "   @ Base ./loading.jl:1428"
     ]
    }
   ],
   "source": [
    "# attempt to mutate and immutable object\n",
    "tup1[1] = 9"
   ]
  },
  {
   "cell_type": "markdown",
   "id": "42ca27a0-b2df-45b9-8ac8-a5d148e046f7",
   "metadata": {},
   "source": [
    "### Membership\n",
    "\n",
    "The *in* operator tests for membership. The following are some examples using the Unicode implementation.\n",
    "\n",
    "Observe that the membership operator compares *values* not objects. "
   ]
  },
  {
   "cell_type": "code",
   "execution_count": 40,
   "id": "ac0e6d41-a1b6-4922-991a-bb61869b4773",
   "metadata": {},
   "outputs": [
    {
     "data": {
      "text/plain": [
       "true"
      ]
     },
     "execution_count": 40,
     "metadata": {},
     "output_type": "execute_result"
    }
   ],
   "source": [
    "2 ∈ [1, 2, 3]"
   ]
  },
  {
   "cell_type": "code",
   "execution_count": 41,
   "id": "06295f3a-6ab1-42c0-a6df-306fbd16e53d",
   "metadata": {},
   "outputs": [
    {
     "data": {
      "text/plain": [
       "false"
      ]
     },
     "execution_count": 41,
     "metadata": {},
     "output_type": "execute_result"
    }
   ],
   "source": [
    "2 ∉ [1, 2, 3]"
   ]
  },
  {
   "cell_type": "code",
   "execution_count": 42,
   "id": "7e010053-3896-4925-91dc-c1fa95f1bba9",
   "metadata": {},
   "outputs": [
    {
     "data": {
      "text/plain": [
       "true"
      ]
     },
     "execution_count": 42,
     "metadata": {},
     "output_type": "execute_result"
    }
   ],
   "source": [
    "2 ∈ [1, 2.0, 3]"
   ]
  },
  {
   "cell_type": "code",
   "execution_count": 43,
   "id": "7852d6e6-3053-4c5e-8ba6-0814b8bdfa3b",
   "metadata": {},
   "outputs": [
    {
     "data": {
      "text/plain": [
       "false"
      ]
     },
     "execution_count": 43,
     "metadata": {},
     "output_type": "execute_result"
    }
   ],
   "source": [
    "[2,3] ∈ [2,3,4]"
   ]
  },
  {
   "cell_type": "code",
   "execution_count": 44,
   "id": "db2c3e99-0a5b-41d4-9a64-9580853c25ff",
   "metadata": {},
   "outputs": [
    {
     "data": {
      "text/plain": [
       "true"
      ]
     },
     "execution_count": 44,
     "metadata": {},
     "output_type": "execute_result"
    }
   ],
   "source": [
    "[2,3] ∈ [[2,3], 4]"
   ]
  },
  {
   "cell_type": "markdown",
   "id": "b521cb70-4d7b-42ad-a975-5ccd6a554223",
   "metadata": {},
   "source": [
    "## Strings and Characters\n",
    "\n",
    "This is one of those languages that uses '' for chars and \"\" for strings. \n",
    "\n",
    "### Characters \n",
    "\n",
    "Characters pretty much act the same as in most modern languages. The only real (good) difference is that Unicode is fully supported for Julia.\n",
    "\n",
    "### Strings\n",
    "\n",
    "Again, for the most part these act just like strings in other languages. One big difference is that concatenation of characters and strings in Julia is done with the * operator instead of \n",
    "the more common + operator. This is because addition is commutative but concatenating characters isn't. E.g. 'a'\\*'b' = \"ab\" but 'b'\\*'a' = \"ba\". Clearly these two are different results. \n",
    "\n",
    "Strings are collections and therefore we can test for membership using the in operator or occursin(search for, search in)."
   ]
  },
  {
   "cell_type": "code",
   "execution_count": 45,
   "id": "3eff5308-2ffb-4346-a90d-a8f1a38c0c5d",
   "metadata": {},
   "outputs": [
    {
     "data": {
      "text/plain": [
       "\"François\""
      ]
     },
     "execution_count": 45,
     "metadata": {},
     "output_type": "execute_result"
    }
   ],
   "source": [
    "n = \"François\""
   ]
  },
  {
   "cell_type": "code",
   "execution_count": 46,
   "id": "4d2cb99c-4005-4e07-970b-8bb730d76271",
   "metadata": {},
   "outputs": [
    {
     "data": {
      "text/plain": [
       "8"
      ]
     },
     "execution_count": 46,
     "metadata": {},
     "output_type": "execute_result"
    }
   ],
   "source": [
    "length(n)"
   ]
  },
  {
   "cell_type": "code",
   "execution_count": 47,
   "id": "c25388da-08da-46e8-882d-27953dba8c72",
   "metadata": {},
   "outputs": [
    {
     "data": {
      "text/plain": [
       "'s': ASCII/Unicode U+0073 (category Ll: Letter, lowercase)"
      ]
     },
     "execution_count": 47,
     "metadata": {},
     "output_type": "execute_result"
    }
   ],
   "source": [
    "n[end]"
   ]
  },
  {
   "cell_type": "code",
   "execution_count": 48,
   "id": "b3fb59ed-ad4b-4173-9fab-04c601b1a7ae",
   "metadata": {},
   "outputs": [
    {
     "data": {
      "text/plain": [
       "'F': ASCII/Unicode U+0046 (category Lu: Letter, uppercase)"
      ]
     },
     "execution_count": 48,
     "metadata": {},
     "output_type": "execute_result"
    }
   ],
   "source": [
    "n[1]"
   ]
  },
  {
   "cell_type": "code",
   "execution_count": 49,
   "id": "4e77acec-db66-466b-9bab-77f376efbca5",
   "metadata": {},
   "outputs": [
    {
     "data": {
      "text/plain": [
       "'ç': Unicode U+00E7 (category Ll: Letter, lowercase)"
      ]
     },
     "execution_count": 49,
     "metadata": {},
     "output_type": "execute_result"
    }
   ],
   "source": [
    "n[5]"
   ]
  },
  {
   "cell_type": "code",
   "execution_count": 50,
   "id": "db781951-9598-435f-9222-c2c8baa4bb51",
   "metadata": {},
   "outputs": [
    {
     "ename": "LoadError",
     "evalue": "StringIndexError: invalid index [6], valid nearby indices [5]=>'ç', [7]=>'o'",
     "output_type": "error",
     "traceback": [
      "StringIndexError: invalid index [6], valid nearby indices [5]=>'ç', [7]=>'o'",
      "",
      "Stacktrace:",
      " [1] string_index_err(s::String, i::Int64)",
      "   @ Base ./strings/string.jl:12",
      " [2] getindex_continued(s::String, i::Int64, u::UInt32)",
      "   @ Base ./strings/string.jl:237",
      " [3] getindex(s::String, i::Int64)",
      "   @ Base ./strings/string.jl:230",
      " [4] top-level scope",
      "   @ In[50]:1",
      " [5] eval",
      "   @ ./boot.jl:368 [inlined]",
      " [6] include_string(mapexpr::typeof(REPL.softscope), mod::Module, code::String, filename::String)",
      "   @ Base ./loading.jl:1428"
     ]
    }
   ],
   "source": [
    "n[6]"
   ]
  },
  {
   "cell_type": "markdown",
   "id": "bd85f52c-5016-4755-b9d4-309dab405f56",
   "metadata": {},
   "source": [
    "The issue here is that Unicode characters take up different sizes, thus we often can't be entirely sure how much they do. \n",
    "\n",
    "## More Looping: for Blocks \n",
    "\n",
    "While loops are convenient to use when want to execute some block of code until there is some kind of change in state. E.g. reading data from a network socket or computing progressively \n",
    "more accurate solutions to an equation until a specific error tolerance. \n",
    "\n",
    "However, a for loop is more useful when we want to loop over a collection or iterate a fixed number of times. E.g."
   ]
  },
  {
   "cell_type": "code",
   "execution_count": 51,
   "id": "79b6755d-f923-40ec-b541-fd8f18c72154",
   "metadata": {},
   "outputs": [
    {
     "name": "stdout",
     "output_type": "stream",
     "text": [
      "0\n",
      "1\n",
      "4\n",
      "9\n",
      "16\n"
     ]
    }
   ],
   "source": [
    "# for blocks need an explicit print since they don't return anything. \n",
    "for j in 0:4\n",
    "    println(j^2)\n",
    "end"
   ]
  },
  {
   "cell_type": "code",
   "execution_count": 52,
   "id": "8a4a25bd-4ee3-4dbd-9dcb-b2c3b8538a25",
   "metadata": {},
   "outputs": [
    {
     "name": "stdout",
     "output_type": "stream",
     "text": [
      "19\n",
      "23\n",
      "0\n"
     ]
    }
   ],
   "source": [
    "# loop over different data structures\n",
    "for x in [-19 23 0]\n",
    "    println(abs(x))\n",
    "end"
   ]
  },
  {
   "cell_type": "code",
   "execution_count": 53,
   "id": "4e817230-eb35-4f97-ac81-a536dbcaacd1",
   "metadata": {},
   "outputs": [
    {
     "name": "stdout",
     "output_type": "stream",
     "text": [
      "F ⋅ r ⋅ a ⋅ n ⋅ ç ⋅ o ⋅ i ⋅ s ⋅ "
     ]
    }
   ],
   "source": [
    "# looping over strings with fancy membership operator\n",
    "for c ∈ \"François\"\n",
    "    print(c * \" ⋅ \")\n",
    "end"
   ]
  },
  {
   "cell_type": "markdown",
   "id": "3d881b2f-5559-4f7b-9315-63e52e1e0bc0",
   "metadata": {},
   "source": [
    "## Functions\n",
    "\n",
    "You already know..."
   ]
  },
  {
   "cell_type": "code",
   "execution_count": 54,
   "id": "847d54f4-44d7-43d3-8ea6-d6dce211ed82",
   "metadata": {},
   "outputs": [
    {
     "data": {
      "text/plain": [
       "double (generic function with 1 method)"
      ]
     },
     "execution_count": 54,
     "metadata": {},
     "output_type": "execute_result"
    }
   ],
   "source": [
    "function double(x)\n",
    "    2x   # simply return the result of the last expression as implicit return value\n",
    "end"
   ]
  },
  {
   "cell_type": "code",
   "execution_count": 55,
   "id": "521d2f19-98fb-43e7-98f1-fd055f985b88",
   "metadata": {},
   "outputs": [
    {
     "data": {
      "text/plain": [
       "200"
      ]
     },
     "execution_count": 55,
     "metadata": {},
     "output_type": "execute_result"
    }
   ],
   "source": [
    "double(100)"
   ]
  },
  {
   "cell_type": "code",
   "execution_count": 56,
   "id": "e4e73dd0-a56a-49d3-aabf-2510eec65fdf",
   "metadata": {},
   "outputs": [
    {
     "data": {
      "text/plain": [
       "double (generic function with 1 method)"
      ]
     },
     "execution_count": 56,
     "metadata": {},
     "output_type": "execute_result"
    }
   ],
   "source": [
    "# we can even shorten simple bangers like the one above as\n",
    "double(x) = 2x"
   ]
  },
  {
   "cell_type": "markdown",
   "id": "273e5d96-8836-4391-a496-2669f9d7d50d",
   "metadata": {},
   "source": [
    "Observe the dynamic typing at work here. Any type where doubling it would work, will work. However, trying something like a string will..."
   ]
  },
  {
   "cell_type": "code",
   "execution_count": 57,
   "id": "5c518d25-5167-4044-b915-35df4102d1bb",
   "metadata": {},
   "outputs": [
    {
     "ename": "LoadError",
     "evalue": "MethodError: no method matching *(::Int64, ::String)\n\u001b[0mClosest candidates are:\n\u001b[0m  *(::Any, ::Any, \u001b[91m::Any\u001b[39m, \u001b[91m::Any...\u001b[39m) at operators.jl:591\n\u001b[0m  *(::T, \u001b[91m::T\u001b[39m) where T<:Union{Int128, Int16, Int32, Int64, Int8, UInt128, UInt16, UInt32, UInt64, UInt8} at int.jl:88\n\u001b[0m  *(\u001b[91m::Union{AbstractChar, AbstractString}\u001b[39m, ::Union{AbstractChar, AbstractString}...) at strings/basic.jl:260\n\u001b[0m  ...",
     "output_type": "error",
     "traceback": [
      "MethodError: no method matching *(::Int64, ::String)\n\u001b[0mClosest candidates are:\n\u001b[0m  *(::Any, ::Any, \u001b[91m::Any\u001b[39m, \u001b[91m::Any...\u001b[39m) at operators.jl:591\n\u001b[0m  *(::T, \u001b[91m::T\u001b[39m) where T<:Union{Int128, Int16, Int32, Int64, Int8, UInt128, UInt16, UInt32, UInt64, UInt8} at int.jl:88\n\u001b[0m  *(\u001b[91m::Union{AbstractChar, AbstractString}\u001b[39m, ::Union{AbstractChar, AbstractString}...) at strings/basic.jl:260\n\u001b[0m  ...",
      "",
      "Stacktrace:",
      " [1] double(x::String)",
      "   @ Main ./In[56]:2",
      " [2] top-level scope",
      "   @ In[57]:1",
      " [3] eval",
      "   @ ./boot.jl:368 [inlined]",
      " [4] include_string(mapexpr::typeof(REPL.softscope), mod::Module, code::String, filename::String)",
      "   @ Base ./loading.jl:1428"
     ]
    }
   ],
   "source": [
    "double(\"hello\")"
   ]
  },
  {
   "cell_type": "code",
   "execution_count": 58,
   "id": "c0d0f850-2a9a-4a65-8e7d-4775fc07bce5",
   "metadata": {},
   "outputs": [
    {
     "data": {
      "text/plain": [
       "length3d"
      ]
     },
     "execution_count": 58,
     "metadata": {},
     "output_type": "execute_result"
    }
   ],
   "source": [
    "\"\"\" \n",
    "Compute length of a vector from the origin (norm) in 3-space.\n",
    "\"\"\"\n",
    "function length3d(x,y,z)\n",
    "    # provide stopping criteria\n",
    "    if x < 0 || y < 0 || z < 0\n",
    "        return \"I only work with positive coordinates.\"\n",
    "    end\n",
    "    sqrt(x^2 + y^2 + z^2)\n",
    "end"
   ]
  },
  {
   "cell_type": "code",
   "execution_count": 59,
   "id": "2145a04d-c046-46dd-9006-f819f7ad23b4",
   "metadata": {},
   "outputs": [
    {
     "data": {
      "text/plain": [
       "1.7320508075688772"
      ]
     },
     "execution_count": 59,
     "metadata": {},
     "output_type": "execute_result"
    }
   ],
   "source": [
    "length3d(1,1,1)"
   ]
  },
  {
   "cell_type": "code",
   "execution_count": 60,
   "id": "b33c2375-9caf-4693-95eb-7f5155f4c4eb",
   "metadata": {},
   "outputs": [
    {
     "data": {
      "text/plain": [
       "\"I only work with positive coordinates.\""
      ]
     },
     "execution_count": 60,
     "metadata": {},
     "output_type": "execute_result"
    }
   ],
   "source": [
    "length3d(-1,1,1)"
   ]
  },
  {
   "cell_type": "markdown",
   "id": "358f2d81-40c9-43a3-bf6d-01f7734b9a0b",
   "metadata": {},
   "source": [
    "<br>Similar to other languages, we can treat functions like objects and pass them around as such. "
   ]
  },
  {
   "cell_type": "code",
   "execution_count": 61,
   "id": "03c8d9ee-3098-40be-bef7-7941a53ecbec",
   "metadata": {},
   "outputs": [
    {
     "data": {
      "text/plain": [
       "tellme"
      ]
     },
     "execution_count": 61,
     "metadata": {},
     "output_type": "execute_result"
    }
   ],
   "source": [
    "\"\"\"\n",
    "Take a function and a value as arguments and \n",
    "announce the result of appying the supplied function.\n",
    "\"\"\"\n",
    "function tellme(f,x)\n",
    "    print(\"The result is \")\n",
    "    f(x)    # call function object with x argument\n",
    "end"
   ]
  },
  {
   "cell_type": "code",
   "execution_count": 62,
   "id": "6e7a93ca-09e0-4192-8ef7-1918e9b80c78",
   "metadata": {},
   "outputs": [
    {
     "name": "stdout",
     "output_type": "stream",
     "text": [
      "The result is "
     ]
    },
    {
     "data": {
      "text/plain": [
       "6"
      ]
     },
     "execution_count": 62,
     "metadata": {},
     "output_type": "execute_result"
    }
   ],
   "source": [
    "tellme(double,3)"
   ]
  },
  {
   "cell_type": "markdown",
   "id": "10f4a3cf-19fd-4aad-8e18-013b5614a089",
   "metadata": {},
   "source": [
    "Observe that the print statement is not an expression and thus doesn't return anything. Instead we call this a *side effect*. A *side effect* is anything that changes the state of the \n",
    "world, such as creating a file, printing to a terminal, downloading, etc. \n",
    "\n",
    "Then we have this concept of a *pure function*. This is a type of function that has no side effects and simply returns a result.\n",
    "This style of creating functions allows for ease of reasoning and debugging and it also makes function *composable*.\n",
    "\n",
    "### Composing Functions \n",
    "\n",
    "Similar to math, *composing* a function means to supply the output of one function as the input of the next.\n",
    "\n",
    "The following are three different methods of composing functions. "
   ]
  },
  {
   "cell_type": "code",
   "execution_count": 63,
   "id": "b1e03a83-fd83-432d-a3ee-d5ad37bfd4f4",
   "metadata": {},
   "outputs": [
    {
     "data": {
      "text/plain": [
       "12"
      ]
     },
     "execution_count": 63,
     "metadata": {},
     "output_type": "execute_result"
    }
   ],
   "source": [
    "# evaluate inner function first, then use the result as argument for outer function\n",
    "double(double(3))"
   ]
  },
  {
   "cell_type": "code",
   "execution_count": 64,
   "id": "cccffeef-7e87-416b-a87c-98e7814e3aed",
   "metadata": {},
   "outputs": [
    {
     "data": {
      "text/plain": [
       "12"
      ]
     },
     "execution_count": 64,
     "metadata": {},
     "output_type": "execute_result"
    }
   ],
   "source": [
    "# same thing but using mathematical notation, most likely my preferred choice\n",
    "(double ∘ double)(3)"
   ]
  },
  {
   "cell_type": "code",
   "execution_count": 65,
   "id": "083a1b5e-7285-4f7c-818e-05549733f054",
   "metadata": {},
   "outputs": [
    {
     "data": {
      "text/plain": [
       "12"
      ]
     },
     "execution_count": 65,
     "metadata": {},
     "output_type": "execute_result"
    }
   ],
   "source": [
    "# using piping, useful for data processing transformations and is familiar from Tidyverse\n",
    "3 |> double |> double"
   ]
  },
  {
   "cell_type": "markdown",
   "id": "2cda3301-f060-480e-a5e7-927394541f6a",
   "metadata": {},
   "source": [
    "### Anonymous Functions\n",
    "\n",
    "Useful for creating disposable functions. A common use case is supplying a function to another function as an argument but the function object only needs to \n",
    "exist for as long as the computation is performed. \n",
    "\n",
    "These will be useful later when studying visualization of mathematical functions. "
   ]
  },
  {
   "cell_type": "code",
   "execution_count": 66,
   "id": "3d89ffc0-6fff-4dec-9a45-bbf468a62218",
   "metadata": {},
   "outputs": [
    {
     "data": {
      "text/plain": [
       "#1 (generic function with 1 method)"
      ]
     },
     "execution_count": 66,
     "metadata": {},
     "output_type": "execute_result"
    }
   ],
   "source": [
    "# e.g. anonymous doubling function \n",
    "x -> 2x"
   ]
  },
  {
   "cell_type": "markdown",
   "id": "fb07cfe8-5fac-4972-ad00-db4eafadf71f",
   "metadata": {},
   "source": [
    "### Broadcasting\n",
    "\n",
    "The dot operator can vectorize any function (i.e. broadcasting). \n",
    "\n",
    "As you know, this is a central idea. It will be covered in-depth at a later date. "
   ]
  },
  {
   "cell_type": "code",
   "execution_count": 67,
   "id": "9e9ea454-7e20-424a-92ae-7d9050ce16ad",
   "metadata": {},
   "outputs": [
    {
     "data": {
      "text/plain": [
       "f (generic function with 1 method)"
      ]
     },
     "execution_count": 67,
     "metadata": {},
     "output_type": "execute_result"
    }
   ],
   "source": [
    "# example of vectorizing functions in Julia\n",
    "f(x) = 2x    # doubling banger"
   ]
  },
  {
   "cell_type": "code",
   "execution_count": 68,
   "id": "a5fe4b07-dfe2-4666-9163-96152673e42f",
   "metadata": {},
   "outputs": [
    {
     "data": {
      "text/plain": [
       "3-element Vector{Int64}:\n",
       " 2\n",
       " 4\n",
       " 6"
      ]
     },
     "execution_count": 68,
     "metadata": {},
     "output_type": "execute_result"
    }
   ],
   "source": [
    "# automatic broadcasting?\n",
    "f([1,2,3])"
   ]
  },
  {
   "cell_type": "code",
   "execution_count": 69,
   "id": "865929b5-d121-4f34-b26d-e4ec8bef67e5",
   "metadata": {},
   "outputs": [
    {
     "data": {
      "text/plain": [
       "3-element Vector{Int64}:\n",
       " 2\n",
       " 4\n",
       " 6"
      ]
     },
     "execution_count": 69,
     "metadata": {},
     "output_type": "execute_result"
    }
   ],
   "source": [
    "f.([1,2,3])"
   ]
  },
  {
   "cell_type": "markdown",
   "id": "4eccf796-0a56-4e08-9efb-3643afb2ccce",
   "metadata": {},
   "source": [
    "## Scope \n",
    "\n",
    "Julia has scoping rules just like every other language. There are slight differences however. \n",
    "In Julia, blocks do *not* automatically create a new scope. For example begin and if blocks are part of their enclosing scope.\n",
    "Only certain blocks create their own scope such as for and while blocks. \n",
    "\n",
    "In order to use a global variable inside of a function, simple declare it as global in order to use the same one in global scope instead of\n",
    "local scope. \n",
    "\n",
    "## Mutability \n",
    "\n"
   ]
  },
  {
   "cell_type": "code",
   "execution_count": 70,
   "id": "ab0df855-9cd0-4534-87a9-df4b6f47c10d",
   "metadata": {},
   "outputs": [
    {
     "data": {
      "text/plain": [
       "false"
      ]
     },
     "execution_count": 70,
     "metadata": {},
     "output_type": "execute_result"
    }
   ],
   "source": [
    "# surprise mf!\n",
    "[1] === [1]"
   ]
  },
  {
   "cell_type": "markdown",
   "id": "a066e7c2-1f0e-4151-b6b8-a66d781d4727",
   "metadata": {},
   "source": [
    "The reasoning for the above result is that two separate vectors were create, each with its own memory. Thus, they are not identical. This does not hold for basic numeric types however.\n",
    "A number is just a number and doesn't have any particular location in memory."
   ]
  },
  {
   "cell_type": "code",
   "execution_count": 71,
   "id": "6e793cd8-9f2a-4a8a-9b81-c125a487b58e",
   "metadata": {},
   "outputs": [
    {
     "data": {
      "text/plain": [
       "true"
      ]
     },
     "execution_count": 71,
     "metadata": {},
     "output_type": "execute_result"
    }
   ],
   "source": [
    "# e.g.\n",
    "1 === 1"
   ]
  },
  {
   "cell_type": "code",
   "execution_count": 72,
   "id": "e2361225-e6d2-4170-a036-75f693e6339e",
   "metadata": {},
   "outputs": [
    {
     "data": {
      "text/plain": [
       "true"
      ]
     },
     "execution_count": 72,
     "metadata": {},
     "output_type": "execute_result"
    }
   ],
   "source": [
    "# value comparions, not equality comparison\n",
    "[1] == [1]"
   ]
  },
  {
   "cell_type": "code",
   "execution_count": 73,
   "id": "ae978b58-a132-44e4-9246-b08e42dd9984",
   "metadata": {},
   "outputs": [
    {
     "data": {
      "text/plain": [
       "1-element Vector{Int64}:\n",
       " 1"
      ]
     },
     "execution_count": 73,
     "metadata": {},
     "output_type": "execute_result"
    }
   ],
   "source": [
    "# arrays are mutable\n",
    "a = [1]"
   ]
  },
  {
   "cell_type": "code",
   "execution_count": 74,
   "id": "cd25793f-6c5f-4c7e-bf8c-20d687d2a3e5",
   "metadata": {},
   "outputs": [
    {
     "data": {
      "text/plain": [
       "1-element Vector{Int64}:\n",
       " 1"
      ]
     },
     "execution_count": 74,
     "metadata": {},
     "output_type": "execute_result"
    }
   ],
   "source": [
    "b = a # same pointer"
   ]
  },
  {
   "cell_type": "code",
   "execution_count": 75,
   "id": "7d03b136-4717-4733-acb0-ed22e14a6864",
   "metadata": {},
   "outputs": [
    {
     "data": {
      "text/plain": [
       "8"
      ]
     },
     "execution_count": 75,
     "metadata": {},
     "output_type": "execute_result"
    }
   ],
   "source": [
    "b[1] = 8"
   ]
  },
  {
   "cell_type": "code",
   "execution_count": 76,
   "id": "9147de85-1120-4578-a093-c948a6ff4d55",
   "metadata": {},
   "outputs": [
    {
     "data": {
      "text/plain": [
       "1-element Vector{Int64}:\n",
       " 8"
      ]
     },
     "execution_count": 76,
     "metadata": {},
     "output_type": "execute_result"
    }
   ],
   "source": [
    "# we changed the value of the object pointed to, thus\n",
    "a"
   ]
  },
  {
   "cell_type": "code",
   "execution_count": 77,
   "id": "d16bad58-2086-4e8f-89ca-bd36e85b7a31",
   "metadata": {},
   "outputs": [
    {
     "data": {
      "text/plain": [
       "true"
      ]
     },
     "execution_count": 77,
     "metadata": {},
     "output_type": "execute_result"
    }
   ],
   "source": [
    "# identical (i.e. same memory address, same object)\n",
    "b === a"
   ]
  },
  {
   "cell_type": "markdown",
   "id": "261b80b2-7bcb-4645-bd3e-76bb34d36ed4",
   "metadata": {},
   "source": [
    "Of course there exist immutable objects in Julia as well. \n",
    "\n",
    "Arrays are mutable; however, when attempting to do certain operations on arrays it is more efficient to use built-in functions that do not keep reallocating large contiguous blocks of memory. \n",
    "\n",
    "For example, the *push!()* functions. This function mutates a an array/vector more efficiently than concatenation would. It creates a time and space efficient mutation. \n",
    "\n",
    "As a note on notation, the ! at the end of these functions is a sign to the implementer that these class of function mutate their arguments. You've been warned. \n",
    "Also, this is simply a convention, try to stick to it so that other Julia programmers know.                                                                                                         \n",
    "\n",
    "## End\n",
    "\n",
    "This concludes the chapter on the basics of Julia. I really enjoyed this as it felt like a crash course that didn't drag on and had plenty of useful examples.\n",
    "Very well paced and very informative. It offered everything you need to know to at least get you up and running and familiar with the basic data types used \n",
    "in the language. "
   ]
  }
 ],
 "metadata": {
  "kernelspec": {
   "display_name": "Julia 1.8.3",
   "language": "julia",
   "name": "julia-1.8"
  },
  "language_info": {
   "file_extension": ".jl",
   "mimetype": "application/julia",
   "name": "julia",
   "version": "1.8.3"
  }
 },
 "nbformat": 4,
 "nbformat_minor": 5
}
